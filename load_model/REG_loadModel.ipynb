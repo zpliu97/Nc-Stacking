{
 "cells": [
  {
   "cell_type": "code",
   "execution_count": null,
   "id": "3f572449-fcfa-4534-b7d0-6809406cfa80",
   "metadata": {},
   "outputs": [],
   "source": [
    "import pandas as pd\n",
    "from tensorflow import keras\n",
    "import numpy as np\n",
    "import matplotlib.pyplot as plt\n",
    "import sklearn"
   ]
  },
  {
   "cell_type": "markdown",
   "id": "15eb2dba-5832-47a6-82a1-fe45c26ad3e5",
   "metadata": {},
   "source": [
    "## Organize training data"
   ]
  },
  {
   "cell_type": "code",
   "execution_count": null,
   "id": "33f7d0b1-bd0f-4992-8f16-665b8ae72599",
   "metadata": {},
   "outputs": [],
   "source": [
    "Train_file_PAT =r'..//train_dataset//REG_dataset_XY.tsv'\n",
    "# read tsv\n",
    "train_ds = pd.read_csv(Train_file_PAT, sep='\\t', na_values=['.'], header=0)\n",
    "train_ds = train_ds.drop(train_ds.columns[range(4)],axis=1)\n",
    "train_ds = train_ds.fillna(train_ds.mean())\n",
    "\n",
    "# pandas.DataFrame -->numpy\n",
    "train_np = train_ds.values\n",
    "x_train = train_np[:, :-1]\n",
    "y_train = train_np[:, -1]"
   ]
  },
  {
   "cell_type": "markdown",
   "id": "594a1f3e-177e-4a56-9e82-3b8518ccd3f6",
   "metadata": {},
   "source": [
    "## Organize testing data"
   ]
  },
  {
   "cell_type": "code",
   "execution_count": null,
   "id": "1eb75e9d-ca8a-4890-a389-ea56c589a827",
   "metadata": {},
   "outputs": [],
   "source": [
    "test_dataset_filename = ['Brown_eQTL','GTEx_eQTL'] #19维特征\n",
    "x_test = {}\n",
    "y_test = {}\n",
    "    \n",
    "for test_index, test_file_name in enumerate(test_dataset_filename,start=0):\n",
    "    test_file =  r'..//test_dataset//' + test_file_name +'_dataset_XY.tsv'    \n",
    "    test_ds = pd.read_csv(test_file, sep='\\t', na_values=['.'], header=0)\n",
    "    \n",
    "    if(test_ds.shape[1] == 19):\n",
    "        test_ds = test_ds.fillna(test_ds.mean())\n",
    "        test_ds = test_ds.drop(test_ds.columns[range(4)], axis=1)\n",
    "    elif(test_ds.shape[1] == 30):\n",
    "        test_ds = test_ds.fillna(test_ds.mean())\n",
    "        test_ds = test_ds.drop(test_ds.columns[range(9)], axis=1)\n",
    "        test_ds = test_ds.drop(test_ds.columns[14:20], axis=1)\n",
    "\n",
    "\n",
    "    test_np = test_ds.values\n",
    "    x_test[test_index] = test_np[:, :-1]\n",
    "    y_test[test_index] = test_np[:, -1]\n",
    "   "
   ]
  },
  {
   "cell_type": "markdown",
   "id": "ea006978-e9e7-4d37-bbeb-4697ca28974d",
   "metadata": {},
   "source": [
    "### model_load"
   ]
  },
  {
   "cell_type": "code",
   "execution_count": null,
   "id": "163518f8-3e80-4170-9500-815ae1e93ef4",
   "metadata": {},
   "outputs": [],
   "source": [
    "import joblib\n",
    "\n",
    "REG_GBDT = joblib.load(\"../model/REG/REG_GBDT\"+\".model\")\n",
    "REG_KNN = joblib.load(\"../model/REG/REG_KNN\"+\".model\")\n",
    "REG_LR = joblib.load(\"../model/REG/REG_LR\"+\".model\")\n",
    "REG_XGBoost = joblib.load(\"../model/REG/REG_XGBoost\"+\".model\")\n",
    "REG_RF = joblib.load(\"../model/REG/REG_RF\"+\".model\")\n",
    "REG_SVM = joblib.load(\"../model/REG/REG_SVM\"+\".model\")\n",
    "REG_Stacking = joblib.load(\"../model/REG/REG_Stacking\"+\".model\")"
   ]
  },
  {
   "cell_type": "code",
   "execution_count": null,
   "id": "d379031f-35d4-4452-ae68-d57c7c7720e3",
   "metadata": {},
   "outputs": [],
   "source": [
    "REG_model_List = [REG_GBDT, REG_KNN, REG_LR, REG_XGBoost,REG_SVM, REG_RF, REG_Stacking]"
   ]
  },
  {
   "cell_type": "code",
   "execution_count": null,
   "id": "9237a983-95e8-4c31-a711-c807b57a3bde",
   "metadata": {},
   "outputs": [],
   "source": [
    "from sklearn.metrics import roc_curve,roc_auc_score,auc\n",
    "\n",
    "def multi_models_roc(names, sampling_methods, colors, X_test, y_test, save_name, save=False, dpin=100):\n",
    "        \"\"\"\n",
    "        Output the AUROC results obtained by all models to a graph\n",
    "        \n",
    "        Args:\n",
    "            names: list, model names\n",
    "            sampling_methods: list, instantiated objects for all models\n",
    "            save: Choose whether to save the result (default is png format)\n",
    "            \n",
    "        Returns:\n",
    "            Returns the image object plt\n",
    "        \"\"\"\n",
    "        plt.figure(figsize=(5, 5), dpi=dpin)\n",
    "\n",
    "        for (name, method, colorname) in zip(names, sampling_methods, colors):\n",
    "            y_test_preds = method.predict(X_test)\n",
    "            y_test_predprob = method.predict_proba(X_test)[:,1]\n",
    "            fpr, tpr, thresholds = roc_curve(y_test, y_test_predprob, pos_label=1)\n",
    "            \n",
    "            plt.plot(fpr, tpr, lw=2, label='{} (AUC={:.4f})'.format(name, auc(fpr, tpr)),color = colorname)\n",
    "            plt.plot([0, 1], [0, 1], '--', lw=5, color = 'grey')\n",
    "            plt.axis('square')  \n",
    "            plt.xlim([0, 1])\n",
    "            plt.ylim([0, 1])\n",
    "            plt.xlabel('False Positive Rate',fontsize=13)\n",
    "            plt.ylabel('True Positive Rate',fontsize=13)\n",
    "            plt.title('ROC Curve',fontsize=8)\n",
    "            plt.legend(loc='lower right',fontsize=8)\n",
    "\n",
    "        if save:\n",
    "            plt.savefig('REG_auroc'+save_name+'_baseClf.png')\n",
    "            \n",
    "        return plt\n",
    "\n"
   ]
  },
  {
   "cell_type": "code",
   "execution_count": null,
   "id": "7d93ce9a-c394-46ce-8625-da97c766aef1",
   "metadata": {},
   "outputs": [],
   "source": [
    "from sklearn.metrics import roc_curve,roc_auc_score,auc\n",
    "\n",
    "def multi_models_auprc(names, sampling_methods, colors, X_test, y_test,  save_name, save=False, dpin=100):\n",
    "        \"\"\"\n",
    "        Output the Auprc results obtained by all models to a graph\n",
    "        \n",
    "        Args:\n",
    "            names: list, model names\n",
    "            sampling_methods: list, instantiated objects for all models\n",
    "            save: Choose whether to save the result (default is png format)\n",
    "            \n",
    "        Returns:\n",
    "            Returns the image object plt\n",
    "        \"\"\"\n",
    "            \n",
    "            \n",
    "        plt.figure(figsize=(5, 5), dpi=dpin)\n",
    "\n",
    "        for (name, method, colorname) in zip(names, sampling_methods, colors):\n",
    "            y_test_predprob = method.predict_proba(X_test)[:,1]\n",
    "            fpr, tpr, thresholds = roc_curve(y_test, y_test_predprob, pos_label=1)\n",
    "            precision, recall,_ = precision_recall_curve(y_test, y_test_predprob)\n",
    "            \n",
    "            plt.plot(recall, precision, lw=2, label='{} (AUC={:.4f})'.format(name, auc(recall, precision)),color = colorname)\n",
    "            plt.plot([0, 1], [0, 1], '--', lw=5, color = 'grey')\n",
    "            plt.axis('square')  \n",
    "            plt.xlim([0, 1])\n",
    "            plt.ylim([0, 1])\n",
    "            plt.xlabel('Recall',fontsize=13)\n",
    "            plt.ylabel('Precision',fontsize=13)\n",
    "            plt.title('AUPR Curve',fontsize=8)\n",
    "            plt.legend(loc='lower right',fontsize=8)\n",
    "\n",
    "        if save:\n",
    "            plt.savefig('REG_multi_models_aupr'+save_name+'_baseClf.png')\n",
    "            \n",
    "        return plt\n",
    "\n"
   ]
  },
  {
   "cell_type": "markdown",
   "id": "a75215fe-901c-41d7-9fc4-45a453eba150",
   "metadata": {},
   "source": [
    "#### get predictions"
   ]
  },
  {
   "cell_type": "code",
   "execution_count": null,
   "id": "1699bfad-1967-411c-a72e-efdd1d3a419d",
   "metadata": {},
   "outputs": [],
   "source": [
    "from sklearn import metrics\n",
    "from sklearn.metrics import precision_recall_curve\n",
    "names = ['GBDT', 'KNN', 'LR', 'XGBoost', 'SVM','RF','Stacking']\n",
    "\n",
    "colors = ['crimson',\n",
    "          'orange',\n",
    "          'gold',\n",
    "          'mediumseagreen',\n",
    "          'steelblue', \n",
    "          'mediumpurple',\n",
    "          'green',\n",
    "          'black'\n",
    "]\n",
    "\n",
    "REG_ROC_graph = multi_models_roc(names, REG_model_List, colors,x_test[0],y_test[0],save_name=\"base_model_Brown_eQTL\")\n",
    "REG_AUPRC_graph = multi_models_auprc(names, REG_model_List, colors,x_test[0],y_test[0],save_name=\"base_model_Brown_eQTL\")"
   ]
  },
  {
   "cell_type": "markdown",
   "id": "5c6e2406-25f0-478b-9076-1caaac839217",
   "metadata": {},
   "source": [
    "## Other_method"
   ]
  },
  {
   "cell_type": "code",
   "execution_count": null,
   "id": "0806abaf-56ae-41a5-8346-323225d38091",
   "metadata": {
    "tags": []
   },
   "outputs": [],
   "source": [
    "test_dataset_filename = ['Brown_eQTL','GTEx_eQTL']\n",
    "\n",
    "x_test = {}\n",
    "y_test = {}\n",
    "\n",
    "test_ds = {}    \n",
    "for test_index, test_file_name in enumerate(test_dataset_filename,start=0):\n",
    "    test_file =  r'C://Users//L//Coding//try_score//test_dataset//' + test_file_name +'_dataset_XY.tsv'    \n",
    "    test_ds[test_index] = pd.read_csv(test_file, sep='\\t', na_values=['.'], header=0)\n",
    "    test_ds[test_index] =  test_ds[test_index].fillna(test_ds[test_index].mean())\n",
    "    test_ds[test_index] =  test_ds[test_index].drop(test_ds[test_index].columns[range(4)], axis=1)\n",
    "\n",
    "    test_np = test_ds[test_index].values\n",
    "    x_test[test_index] = test_np[:, :-1]\n",
    "    y_test[test_index] = test_np[:, -1]\n",
    "    print(x_test[test_index].shape, y_test[test_index].shape)"
   ]
  },
  {
   "cell_type": "markdown",
   "id": "1a5a7436-0b93-4f57-a385-53836acfab31",
   "metadata": {},
   "source": [
    "## CADD,CScape,DANN,FATHMM-MKL,FIRE"
   ]
  },
  {
   "cell_type": "code",
   "execution_count": null,
   "id": "cdf30802-d99a-4871-a39a-f6da5426eca6",
   "metadata": {},
   "outputs": [],
   "source": [
    "colors = ['crimson',\n",
    "          'orange',\n",
    "          'gold',\n",
    "          'mediumseagreen',\n",
    "          'steelblue',\n",
    "]\n",
    "\n",
    "method_list = ['CADD','CScape','DANN','FATHMM-MKL','FIRE']\n",
    "method_data = {}\n",
    "method_data[0] = np.concatenate((test_ds[0]['CADD'].values.reshape(-1,1), test_ds[0]['CScape'].values.reshape(-1,1),\n",
    "                            test_ds[0]['DANN'].values.reshape(-1,1),test_ds[0]['FATHMM-MKL'].values.reshape(-1,1),\n",
    "                            test_ds[0]['FIRE'].values.reshape(-1,1)),axis=1)\n",
    "\n",
    "method_data[1] = np.concatenate((test_ds[1]['CADD'].values.reshape(-1,1), test_ds[1]['CScape'].values.reshape(-1,1),\n",
    "                            test_ds[1]['DANN'].values.reshape(-1,1),test_ds[1]['FATHMM-MKL'].values.reshape(-1,1),\n",
    "                            test_ds[1]['FIRE'].values.reshape(-1,1)),axis=1)\n",
    "\n",
    "method_data[2] = np.concatenate((test_ds[2]['CADD'].values.reshape(-1,1), test_ds[2]['CScape'].values.reshape(-1,1),\n",
    "                            test_ds[2]['DANN'].values.reshape(-1,1),test_ds[2]['FATHMM-MKL'].values.reshape(-1,1),\n",
    "                            test_ds[2]['FIRE'].values.reshape(-1,1)),axis=1)\n",
    "\n",
    "label = train_ds['label']\n",
    "\n",
    "print(method_data[0].shape)\n",
    "print(method_data[1].shape)"
   ]
  },
  {
   "cell_type": "markdown",
   "id": "a5214200-4b3e-4daa-a119-6e88779feeb0",
   "metadata": {},
   "source": [
    "### load DeepGS & regBase"
   ]
  },
  {
   "cell_type": "code",
   "execution_count": null,
   "id": "fc6e1276-2d19-4ff7-af96-39163db4e392",
   "metadata": {
    "tags": []
   },
   "outputs": [],
   "source": [
    "from tensorflow.keras.models import load_model\n",
    "\n",
    "model_DeepGS = load_model('../model/REG/REG_DeepGS.h5')\n",
    "model_regBase = joblib.load(\"../model/REG/REG_regBase\"+\".model\")\n",
    "\n"
   ]
  },
  {
   "cell_type": "code",
   "execution_count": null,
   "id": "e42687b5-ba7e-45ca-b71d-c7a43df19d2a",
   "metadata": {},
   "outputs": [],
   "source": [
    "print(method_data[0].shape)\n",
    "print(method_data[1].shape)"
   ]
  },
  {
   "cell_type": "code",
   "execution_count": null,
   "id": "9986d4d3-cc7e-4b49-a1f8-52269c8ad187",
   "metadata": {},
   "outputs": [],
   "source": [
    "y_test_predprob_DeepGS = {}\n",
    "method_list.append('DeepGS')\n",
    "for test_index, test_file_name in enumerate(test_dataset_filename,start=0):\n",
    "    print(test_index)\n",
    "    y_test_predprob_DeepGS[test_index] = model_DeepGS.predict(x_test[test_index])[:,1]\n",
    "    print(y_test_predprob_DeepGS[test_index].shape)\n",
    "    method_data[test_index] = np.append(method_data[test_index],y_test_predprob_DeepGS[test_index].reshape(-1,1),axis = 1)\n",
    "\n",
    "y_test_predprob_regBase = {}\n",
    "method_list.append('regBase')\n",
    "for test_index, test_file_name in enumerate(test_dataset_filename,start=0):\n",
    "    print(test_index)\n",
    "    y_test_predprob_regBase[test_index] = model_regBase.predict_proba(x_test[test_index])[:,1]\n",
    "    print(y_test_predprob_regBase[test_index].shape)\n",
    "    method_data[test_index] = np.append(method_data[test_index],y_test_predprob_regBase[test_index].reshape(-1,1),axis = 1)"
   ]
  },
  {
   "cell_type": "markdown",
   "id": "4e0326f1-a306-4a6a-a154-3233f559102f",
   "metadata": {},
   "source": [
    "## Stacking"
   ]
  },
  {
   "cell_type": "code",
   "execution_count": null,
   "id": "5043ff1c-483c-42f1-a86c-ef1adc378fd6",
   "metadata": {},
   "outputs": [],
   "source": [
    "y_test_predprob_stacking = {}\n",
    "method_list.append('Stacking')\n",
    "for test_index, test_file_name in enumerate(test_dataset_filename,start=0):\n",
    "    print(test_index)\n",
    "    y_test_predprob_regBase[test_index] = CAN_Stacking.predict_proba(x_test[test_index])[:,1]\n",
    "    print(y_test_predprob_regBase[test_index].shape)\n",
    "    method_data[test_index] = np.append(method_data[test_index],y_test_predprob_regBase[test_index].reshape(-1,1),axis = 1)"
   ]
  },
  {
   "cell_type": "code",
   "execution_count": null,
   "id": "eaa3b7dd-2215-4eff-9a2c-e53d2343ca5b",
   "metadata": {},
   "outputs": [],
   "source": [
    "print(method_list)\n",
    "print(method_data[0].shape)\n",
    "print(method_data[1].shape)"
   ]
  },
  {
   "cell_type": "code",
   "execution_count": null,
   "id": "d7250f0f-395e-4ab1-9797-f1bfc09dd25f",
   "metadata": {
    "tags": []
   },
   "outputs": [],
   "source": [
    "from sklearn.metrics import roc_curve,roc_auc_score,auc,precision_recall_curve\n",
    "from sklearn import metrics\n",
    "\n",
    "def multi_method_AUROC(names,  colors, X_test, y_test,save_name,save=False, dpin=100):\n",
    "        \"\"\"\n",
    "        Output the AUROC results obtained by all models to a graph\n",
    "        \n",
    "        Args:\n",
    "            names: list, methods names\n",
    "            sampling_methods: list, instantiated objects for all methods\n",
    "            save: Choose whether to save the result (default is png format)\n",
    "            \n",
    "        Returns:\n",
    "            Returns the image object plt\n",
    "        \"\"\"\n",
    "        plt.figure(figsize=(5, 5), dpi=dpin)\n",
    "\n",
    "        for (method_index, method_name) in enumerate(names, start=0):\n",
    "            y_test_predprob = X_test[:,method_index]\n",
    "            fpr, tpr, thresholds = roc_curve(y_test, y_test_predprob, pos_label=1)\n",
    "            print(method_name)\n",
    "            \n",
    "            plt.plot(fpr, tpr, lw=2, label='{} (AUC={:.4f})'.format(method_name, auc(fpr, tpr)),color = colors[method_index])\n",
    "            plt.plot([0, 1], [0, 1], '--', lw=5, color = 'grey')\n",
    "            plt.axis('square')  \n",
    "            plt.xlim([0, 1])\n",
    "            plt.ylim([0, 1])\n",
    "            plt.xlabel('False Positive Rate',fontsize=13)\n",
    "            plt.ylabel('True Positive Rate',fontsize=13)\n",
    "            #plt.title('ROC Curve',fontsize=8)\n",
    "            plt.legend(loc='lower right',fontsize=8)\n",
    "\n",
    "        if save:\n",
    "            plt.savefig('REG_multi_models_auroc'+save_name+'_otherMethod.png')\n",
    "            \n",
    "        return plt"
   ]
  },
  {
   "cell_type": "code",
   "execution_count": null,
   "id": "152913bf-60dc-4bab-942b-8b00b157c53f",
   "metadata": {},
   "outputs": [],
   "source": [
    "from sklearn.metrics import roc_curve,roc_auc_score,auc,precision_recall_curve\n",
    "from sklearn import metrics\n",
    "\n",
    "def multi_method_AUPRC(names,  colors, X_test, y_test,save_name,save=False, dpin=100):\n",
    "        \"\"\"\n",
    "        Output the AUPRC results obtained by all models to a graph\n",
    "        \n",
    "        Args:\n",
    "            names: list, methods names\n",
    "            sampling_methods: list, instantiated objects for all methods\n",
    "            save: Choose whether to save the result (default is png format)\n",
    "            \n",
    "        Returns:\n",
    "            Returns the image object plt\n",
    "        \"\"\"\n",
    "        plt.figure(figsize=(5, 5), dpi=dpin)\n",
    "\n",
    "        for (method_index, method_name) in enumerate(names, start=0):\n",
    "            y_test_predprob = X_test[:,method_index]\n",
    "            fpr, tpr, thresholds = roc_curve(y_test, y_test_predprob, pos_label=1)\n",
    "            print(method_name)\n",
    "            \n",
    "            precision, recall,_ = precision_recall_curve(y_test, y_test_predprob)\n",
    "            plt.plot(recall, precision, lw=2, label='{} (AUC={:.4f})'.format(method_name, auc(recall, precision)),color = colors[method_index])\n",
    "            plt.plot([0, 1], [0, 1], '--', lw=5, color = 'grey')\n",
    "            plt.axis('square')  \n",
    "            plt.xlim([0, 1])\n",
    "            plt.ylim([0, 1])\n",
    "            plt.xlabel('False Positive Rate',fontsize=13)\n",
    "            plt.ylabel('True Positive Rate',fontsize=13)\n",
    "            #plt.title('AUPR Curve',fontsize=6)\n",
    "            plt.legend(loc='lower right',fontsize=8)\n",
    "\n",
    "        if save:\n",
    "            plt.savefig('REG_multi_models_aupr_'+save_name+'otherMethod.png')\n",
    "            \n",
    "        return plt"
   ]
  },
  {
   "cell_type": "code",
   "execution_count": null,
   "id": "0baea671-0c1c-477a-b4a8-212a4f0e055f",
   "metadata": {},
   "outputs": [],
   "source": [
    "colors = ['crimson',\n",
    "          'orange',\n",
    "          'gold',\n",
    "          'mediumseagreen',\n",
    "          'steelblue', \n",
    "          'mediumpurple',\n",
    "          'blue',\n",
    "          'black'\n",
    "]\n",
    "\n",
    "\n",
    "multi_method_AUPRC(method_list, colors, method_data[0],y_test[0],'other_Brown')\n",
    "multi_method_AUROC(method_list, colors, method_data[0],y_test[0],'other_Brown')\n"
   ]
  },
  {
   "cell_type": "code",
   "execution_count": null,
   "id": "ce173a0a-dd8f-4c2e-ae46-18dd43f98a02",
   "metadata": {},
   "outputs": [],
   "source": [
    "multi_method_AUPRC(method_list, colors, method_data[1],y_test[1],'GTEx')\n",
    "multi_method_AUROC(method_list, colors, method_data[1],y_test[1],'GTEx')"
   ]
  },
  {
   "cell_type": "code",
   "execution_count": null,
   "id": "566e4480-0694-42b8-8495-6526d1c973aa",
   "metadata": {},
   "outputs": [],
   "source": []
  }
 ],
 "metadata": {
  "kernelspec": {
   "display_name": "Python 3",
   "language": "python",
   "name": "python3"
  },
  "language_info": {
   "codemirror_mode": {
    "name": "ipython",
    "version": 3
   },
   "file_extension": ".py",
   "mimetype": "text/x-python",
   "name": "python",
   "nbconvert_exporter": "python",
   "pygments_lexer": "ipython3",
   "version": "3.6.8"
  }
 },
 "nbformat": 4,
 "nbformat_minor": 5
}
