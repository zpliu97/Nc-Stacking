{
 "cells": [
  {
   "cell_type": "code",
   "execution_count": null,
   "id": "3f572449-fcfa-4534-b7d0-6809406cfa80",
   "metadata": {},
   "outputs": [],
   "source": [
    "import pandas as pd\n",
    "from tensorflow import keras\n",
    "import numpy as np\n",
    "import matplotlib.pyplot as plt\n",
    "import sklearn\n",
    "from sklearn.ensemble import StackingClassifier"
   ]
  },
  {
   "cell_type": "markdown",
   "id": "15eb2dba-5832-47a6-82a1-fe45c26ad3e5",
   "metadata": {},
   "source": [
    "## Organize training data"
   ]
  },
  {
   "cell_type": "code",
   "execution_count": null,
   "id": "6e2664fe-80a0-41ef-8914-073aaa50aca8",
   "metadata": {},
   "outputs": [],
   "source": [
    "Train_file_PAT =r'..//train_dataset//PAT_dataset_XY.tsv'\n",
    "# read tsv\n",
    "train_ds = pd.read_csv(Train_file_PAT, sep='\\t', na_values=['.'], header=0)\n",
    "train_ds = train_ds.drop(train_ds.columns[range(4)],axis=1)\n",
    "train_ds = train_ds.fillna(train_ds.mean())\n",
    "\n",
    "# pandas.DataFrame -->numpy\n",
    "train_np = train_ds.values\n",
    "x_train = train_np[:, :-1]\n",
    "y_train = train_np[:, -1]"
   ]
  },
  {
   "cell_type": "markdown",
   "id": "a480e7c0-7dde-4536-aacf-72848d2c6405",
   "metadata": {},
   "source": [
    "## Organize testing data"
   ]
  },
  {
   "cell_type": "code",
   "execution_count": null,
   "id": "c553248e-967e-4976-866d-c66965826559",
   "metadata": {},
   "outputs": [],
   "source": [
    "test_dataset_filename = ['Rare_Patho_SNV'] \n",
    "x_test = {}\n",
    "y_test = {}\n",
    "    \n",
    "for test_index, test_file_name in enumerate(test_dataset_filename,start=0):\n",
    "    test_file =  r'..//test_dataset//' + test_file_name +'_dataset_XY.tsv'    \n",
    "    test_ds = pd.read_csv(test_file, sep='\\t', na_values=['.'], header=0)\n",
    "    \n",
    "    if(test_ds.shape[1] == 19):\n",
    "        test_ds = test_ds.fillna(train_ds.mean())\n",
    "        test_ds = test_ds.drop(test_ds.columns[range(4)], axis=1)\n",
    "    elif(test_ds.shape[1] == 30):\n",
    "        test_ds = test_ds.fillna(train_ds.mean())\n",
    "        test_ds = test_ds.drop(test_ds.columns[range(4)], axis=1)\n",
    "\n",
    "    test_np = test_ds.values\n",
    "    x_test[test_index] = test_np[:, :-1]\n",
    "    y_test[test_index] = test_np[:, -1]"
   ]
  },
  {
   "cell_type": "markdown",
   "id": "c53ad45b-0ae6-4184-bca8-ae93905e37c5",
   "metadata": {},
   "source": [
    "### model_load"
   ]
  },
  {
   "cell_type": "code",
   "execution_count": null,
   "id": "871e88e6-602e-4a00-9c93-d76321895c9c",
   "metadata": {
    "tags": []
   },
   "outputs": [],
   "source": [
    "import joblib\n",
    "\n",
    "PAT_GBDT = joblib.load(\"../model/PAT/PAT_GBDT\"+\".model\")\n",
    "PAT_KNN = joblib.load(\"../model/PAT/PAT_KNN\"+\".model\")\n",
    "PAT_LR = joblib.load(\"../model/PAT/PAT_LR\"+\".model\")\n",
    "PAT_XGBoost = joblib.load(\"../model/PAT/PAT_XGBoost\"+\".model\")\n",
    "PAT_RF = joblib.load(\"../model/PAT/PAT_RF\"+\".model\")\n",
    "PAT_SVM = joblib.load(\"../model/PAT/PAT_SVM\"+\".model\")\n",
    "PAT_Stacking = joblib.load(\"../model/PAT/PAT_Stacking\"+\".model\")"
   ]
  },
  {
   "cell_type": "code",
   "execution_count": null,
   "id": "81739996-e425-4d57-b0eb-8df01c37fbb7",
   "metadata": {},
   "outputs": [],
   "source": [
    "PAT_model_List = [PAT_GBDT, PAT_KNN, PAT_LR, PAT_XGBoost, PAT_RF, PAT_SVM, PAT_Stacking]\n"
   ]
  },
  {
   "cell_type": "code",
   "execution_count": null,
   "id": "3442bd0c-977d-4f6d-9480-0baaf3792745",
   "metadata": {},
   "outputs": [],
   "source": [
    "from sklearn.metrics import roc_curve,roc_auc_score,auc\n",
    "\n",
    "def multi_models_roc(names, sampling_methods, colors, X_test, y_test, save_name, save=True, dpin=100):\n",
    "        \"\"\"\n",
    "        Output the AUROC results obtained by all models to a graph\n",
    "        \n",
    "        Args:\n",
    "            names: list, model names\n",
    "            sampling_methods: list, instantiated objects for all models\n",
    "            save: Choose whether to save the result (default is png format)\n",
    "            \n",
    "        Returns:\n",
    "            Returns the image object plt\n",
    "        \"\"\"\n",
    "        plt.figure(figsize=(5, 5), dpi=dpin)\n",
    "\n",
    "        for (name, method, colorname) in zip(names, sampling_methods, colors):\n",
    "            y_test_preds = method.predict(X_test)\n",
    "            y_test_predprob = method.predict_proba(X_test)[:,1]\n",
    "            fpr, tpr, thresholds = roc_curve(y_test, y_test_predprob, pos_label=1)\n",
    "            \n",
    "            plt.plot(fpr, tpr, lw=2, label='{} (AUC={:.4f})'.format(name, auc(fpr, tpr)),color = colorname)\n",
    "            plt.plot([0, 1], [0, 1], '--', lw=5, color = 'grey')\n",
    "            plt.axis('square')  \n",
    "            plt.xlim([0, 1])\n",
    "            plt.ylim([0, 1])\n",
    "            plt.xlabel('False Positive Rate',fontsize=13)\n",
    "            plt.ylabel('True Positive Rate',fontsize=13)\n",
    "            plt.title('ROC Curve',fontsize=8)\n",
    "            plt.legend(loc='lower right',fontsize=8)\n",
    "\n",
    "        if save:\n",
    "            plt.savefig('PAT_auroc'+save_name+'_baseClf.png')\n",
    "            \n",
    "        return plt\n",
    "\n"
   ]
  },
  {
   "cell_type": "code",
   "execution_count": null,
   "id": "8880ca6c-e180-4161-9f43-3dd23bca71e2",
   "metadata": {},
   "outputs": [],
   "source": [
    "from sklearn.metrics import roc_curve,roc_auc_score,auc\n",
    "\n",
    "def multi_models_auprc(names, sampling_methods, colors, X_test, y_test,  save_name, save=True, dpin=100):\n",
    "        \"\"\"\n",
    "        Output the Auprc results obtained by all models to a graph\n",
    "        \n",
    "        Args:\n",
    "            names: list, model names\n",
    "            sampling_methods: list, instantiated objects for all models\n",
    "            save: Choose whether to save the result (default is png format)\n",
    "            \n",
    "        Returns:\n",
    "            Returns the image object plt\n",
    "        \"\"\"\n",
    "            \n",
    "            \n",
    "        plt.figure(figsize=(5, 5), dpi=dpin)\n",
    "\n",
    "        for (name, method, colorname) in zip(names, sampling_methods, colors):\n",
    "            y_test_predprob = method.predict_proba(X_test)[:,1]\n",
    "            fpr, tpr, thresholds = roc_curve(y_test, y_test_predprob, pos_label=1)\n",
    "            precision, recall,_ = precision_recall_curve(y_test, y_test_predprob)\n",
    "            \n",
    "            plt.plot(recall, precision, lw=2, label='{} (AUC={:.4f})'.format(name, auc(recall, precision)),color = colorname)\n",
    "            plt.plot([0, 1], [0, 1], '--', lw=5, color = 'grey')\n",
    "            plt.axis('square')  \n",
    "            plt.xlim([0, 1])\n",
    "            plt.ylim([0, 1])\n",
    "            plt.xlabel('Recall',fontsize=13)\n",
    "            plt.ylabel('Precision',fontsize=13)\n",
    "            plt.title('AUPR Curve',fontsize=8)\n",
    "            plt.legend(loc='lower right',fontsize=8)\n",
    "\n",
    "        if save:\n",
    "            plt.savefig('PAT_multi_models_aupr'+save_name+'_baseClf.png')\n",
    "            \n",
    "        return plt\n",
    "\n"
   ]
  },
  {
   "cell_type": "markdown",
   "id": "a75215fe-901c-41d7-9fc4-45a453eba150",
   "metadata": {},
   "source": [
    "#### get predictions"
   ]
  },
  {
   "cell_type": "code",
   "execution_count": null,
   "id": "1699bfad-1967-411c-a72e-efdd1d3a419d",
   "metadata": {},
   "outputs": [],
   "source": [
    "from sklearn import metrics\n",
    "from sklearn.metrics import precision_recall_curve\n",
    "names = ['GBDT', 'KNN', 'LR', 'XGBoost', 'RF','SVM' ,'Stacking']\n",
    "\n",
    "colors = ['crimson',\n",
    "          'orange',\n",
    "          'gold',\n",
    "          'mediumseagreen',\n",
    "          'steelblue', \n",
    "          'mediumpurple',\n",
    "          'green',\n",
    "          'black'\n",
    "]\n",
    "\n",
    "PAT_ROC_graph = multi_models_roc(names, PAT_model_List, colors,x_test[0],y_test[0],save_name=\"brown\")\n",
    "PAT_AUPRC_graph = multi_models_auprc(names, PAT_model_List, colors,x_test[0],y_test[0],save_name=\"brown\")"
   ]
  },
  {
   "cell_type": "markdown",
   "id": "425c2898-7411-48f1-a6c9-39379e855e44",
   "metadata": {},
   "source": [
    "## Other_method"
   ]
  },
  {
   "cell_type": "code",
   "execution_count": null,
   "id": "00f15025-8760-4771-8155-1dc2a43b9b59",
   "metadata": {},
   "outputs": [],
   "source": [
    "\n",
    "test_dataset_filename = ['Rare_Patho_SNV'] \n",
    "x_test = {}\n",
    "y_test = {}\n",
    "\n",
    "test_ds = {}    \n",
    "for test_index, test_file_name in enumerate(test_dataset_filename,start=0):\n",
    "    test_file =  r'..//test_dataset//' + test_file_name +'_dataset_XY.tsv'    \n",
    "    test_ds[test_index] = pd.read_csv(test_file, sep='\\t', na_values=['.'], header=0)\n",
    "    test_ds[test_index] =  test_ds[test_index].fillna(test_ds[test_index].mean())\n",
    "    test_ds[test_index] =  test_ds[test_index].drop(test_ds[test_index].columns[range(4)], axis=1)\n",
    "\n",
    "    test_np = test_ds[test_index].values\n",
    "    x_test[test_index] = test_np[:, :-1]\n",
    "    y_test[test_index] = test_np[:, -1]\n",
    "    print(x_test[test_index].shape, y_test[test_index].shape)"
   ]
  },
  {
   "cell_type": "code",
   "execution_count": null,
   "id": "97f3a3c3-9e33-46df-a838-7283b4d27dca",
   "metadata": {},
   "outputs": [],
   "source": [
    "colors = ['crimson',\n",
    "          'orange',\n",
    "          'gold',\n",
    "          'mediumseagreen',\n",
    "          'steelblue',\n",
    "]\n",
    "\n",
    "method_list = ['CADD','CScape','DANN','FATHMM-MKL','FIRE']\n",
    "method_data = {}\n",
    "method_data[0] = np.concatenate((test_ds[0]['CADD'].values.reshape(-1,1), test_ds[0]['CScape'].values.reshape(-1,1),\n",
    "                            test_ds[0]['DANN'].values.reshape(-1,1),test_ds[0]['FATHMM-MKL'].values.reshape(-1,1),\n",
    "                            test_ds[0]['FIRE'].values.reshape(-1,1)),axis=1)\n",
    "\n",
    "method_data[1] = np.concatenate((test_ds[1]['CADD'].values.reshape(-1,1), test_ds[1]['CScape'].values.reshape(-1,1),\n",
    "                            test_ds[1]['DANN'].values.reshape(-1,1),test_ds[1]['FATHMM-MKL'].values.reshape(-1,1),\n",
    "                            test_ds[1]['FIRE'].values.reshape(-1,1)),axis=1)\n",
    "\n",
    "label = train_ds['label']\n",
    "\n",
    "print(method_data[0].shape)\n",
    "print(method_data[1].shape)"
   ]
  },
  {
   "cell_type": "markdown",
   "id": "1c00b5c4-ee17-4316-bb6d-7ec43bfedc85",
   "metadata": {},
   "source": [
    "### load DeepGS & regBase"
   ]
  },
  {
   "cell_type": "code",
   "execution_count": null,
   "id": "f1bd7787-1407-4dfe-87c7-e2006dcc52fa",
   "metadata": {},
   "outputs": [],
   "source": [
    "from tensorflow.keras.models import load_model\n",
    "\n",
    "model_DeepGS = load_model('../model/PAT/PAT_DeepGS.h5')\n",
    "model_regBase = joblib.load(\"../model/PAT/PAT_regBase\"+\".model\")\n",
    "\n"
   ]
  },
  {
   "cell_type": "code",
   "execution_count": null,
   "id": "aeeb0597-fd42-417e-9b55-b6cbe10dbd47",
   "metadata": {},
   "outputs": [],
   "source": [
    "y_test_predprob_DeepGS = {}\n",
    "method_list.append('DeepGS')\n",
    "for test_index, test_file_name in enumerate(test_dataset_filename,start=0):\n",
    "    print(test_index)\n",
    "    y_test_predprob_DeepGS[test_index] = model_DeepGS.predict(x_test[test_index])[:,1]\n",
    "    print(y_test_predprob_DeepGS[test_index].shape)\n",
    "    method_data[test_index] = np.append(method_data[test_index],y_test_predprob_DeepGS[test_index].reshape(-1,1),axis = 1)\n",
    "\n",
    "y_test_predprob_regBase = {}\n",
    "method_list.append('regBase')\n",
    "for test_index, test_file_name in enumerate(test_dataset_filename,start=0):\n",
    "    print(test_index)\n",
    "    y_test_predprob_regBase[test_index] = model_regBase.predict_proba(x_test[test_index])[:,1]\n",
    "    print(y_test_predprob_regBase[test_index].shape)\n",
    "    method_data[test_index] = np.append(method_data[test_index],y_test_predprob_regBase[test_index].reshape(-1,1),axis = 1)"
   ]
  },
  {
   "cell_type": "code",
   "execution_count": null,
   "id": "7b73f29a-2b24-4d85-8e96-60d00446e4ac",
   "metadata": {},
   "outputs": [],
   "source": [
    "y_test_predprob_stacking = {}\n",
    "method_list.append('Stacking')\n",
    "for test_index, test_file_name in enumerate(test_dataset_filename,start=0):\n",
    "    print(test_index)\n",
    "    y_test_predprob_stacking[test_index] = PAT_Stacking.predict_proba(x_test[test_index])[:,1]\n",
    "    print(y_test_predprob_stacking[test_index].shape)\n",
    "    method_data[test_index] = np.append(method_data[test_index],y_test_predprob_stacking[test_index].reshape(-1,1),axis = 1)\n",
    "    \n"
   ]
  },
  {
   "cell_type": "code",
   "execution_count": null,
   "id": "402ffd9e-b099-4bcb-8cec-d3cfac386746",
   "metadata": {},
   "outputs": [],
   "source": [
    "print(method_list)\n",
    "print(method_data[0].shape)\n",
    "print(method_data[1].shape)"
   ]
  },
  {
   "cell_type": "code",
   "execution_count": null,
   "id": "68de73bd-ceef-41a9-8910-d196ded9144f",
   "metadata": {},
   "outputs": [],
   "source": [
    "from sklearn.metrics import roc_curve,roc_auc_score,auc,precision_recall_curve\n",
    "from sklearn import metrics\n",
    "\n",
    "def multi_method_AUROC(names,  colors, X_test, y_test,save_name,save=True, dpin=100):\n",
    "        \"\"\"\n",
    "        Output the AUROC results obtained by all models to a graph\n",
    "        \n",
    "        Args:\n",
    "            names: list, methods names\n",
    "            sampling_methods: list, instantiated objects for all methods\n",
    "            save: Choose whether to save the result (default is png format)\n",
    "            \n",
    "        Returns:\n",
    "            Returns the image object plt\n",
    "        \"\"\"\n",
    "        plt.figure(figsize=(5, 5), dpi=dpin)\n",
    "\n",
    "        for (method_index, method_name) in enumerate(names, start=0):\n",
    "            y_test_predprob = X_test[:,method_index]\n",
    "            fpr, tpr, thresholds = roc_curve(y_test, y_test_predprob, pos_label=1)\n",
    "            print(method_name)\n",
    "            \n",
    "            plt.plot(fpr, tpr, lw=2, label='{} (AUC={:.4f})'.format(method_name, auc(fpr, tpr)),color = colors[method_index])\n",
    "            plt.plot([0, 1], [0, 1], '--', lw=5, color = 'grey')\n",
    "            plt.axis('square')  \n",
    "            plt.xlim([0, 1])\n",
    "            plt.ylim([0, 1])\n",
    "            plt.xlabel('False Positive Rate',fontsize=13)\n",
    "            plt.ylabel('True Positive Rate',fontsize=13)\n",
    "            #plt.title('ROC Curve',fontsize=8)\n",
    "            plt.legend(loc='lower right',fontsize=8)\n",
    "\n",
    "        if save:\n",
    "            plt.savefig('CAN_multi_models_auroc'+save_name+'_otherMethod.png')\n",
    "            \n",
    "        return plt"
   ]
  },
  {
   "cell_type": "code",
   "execution_count": null,
   "id": "8011b8bd-7dba-48c3-8d48-a68817e64292",
   "metadata": {},
   "outputs": [],
   "source": [
    "from sklearn.metrics import roc_curve,roc_auc_score,auc,precision_recall_curve\n",
    "from sklearn import metrics\n",
    "\n",
    "def multi_method_AUPRC(names,  colors, X_test, y_test,save_name,save=True, dpin=100):\n",
    "        \"\"\"\n",
    "        Output the AUPRC results obtained by all models to a graph\n",
    "        \n",
    "        Args:\n",
    "            names: list, methods names\n",
    "            sampling_methods: list, instantiated objects for all methods\n",
    "            save: Choose whether to save the result (default is png format)\n",
    "            \n",
    "        Returns:\n",
    "            Returns the image object plt\n",
    "        \"\"\"\n",
    "        plt.figure(figsize=(5, 5), dpi=dpin)\n",
    "\n",
    "        for (method_index, method_name) in enumerate(names, start=0):\n",
    "            y_test_predprob = X_test[:,method_index]\n",
    "            fpr, tpr, thresholds = roc_curve(y_test, y_test_predprob, pos_label=1)\n",
    "            print(method_name)\n",
    "            \n",
    "            precision, recall,_ = precision_recall_curve(y_test, y_test_predprob)\n",
    "            plt.plot(recall, precision, lw=2, label='{} (AUC={:.4f})'.format(method_name, auc(recall, precision)),color = colors[method_index])\n",
    "            plt.plot([0, 1], [0, 1], '--', lw=5, color = 'grey')\n",
    "            plt.axis('square')  \n",
    "            plt.xlim([0, 1])\n",
    "            plt.ylim([0, 1])\n",
    "            plt.xlabel('False Positive Rate',fontsize=13)\n",
    "            plt.ylabel('True Positive Rate',fontsize=13)\n",
    "            #plt.title('AUPR Curve',fontsize=6)\n",
    "            plt.legend(loc='lower right',fontsize=8)\n",
    "\n",
    "        if save:\n",
    "            plt.savefig('CAN_multi_models_aupr_'+save_name+'otherMethod.png')\n",
    "            \n",
    "        return plt"
   ]
  },
  {
   "cell_type": "code",
   "execution_count": null,
   "id": "683ecca4-454d-4674-a178-848f8cc44443",
   "metadata": {},
   "outputs": [],
   "source": [
    "colors = ['crimson',\n",
    "          'orange',\n",
    "          'gold',\n",
    "          'mediumseagreen',\n",
    "          'steelblue', \n",
    "          'mediumpurple',\n",
    "          'blue',\n",
    "          'black'\n",
    "]\n",
    "\n",
    "\n",
    "multi_method_AUPRC(method_list, colors, method_data[0],y_test[0],save_name=\"Rare_Patho\")\n",
    "multi_method_AUROC(method_list, colors, method_data[0],y_test[0],save_name=\"Rare_Patho\")"
   ]
  }
 ],
 "metadata": {
  "kernelspec": {
   "display_name": "Python 3",
   "language": "python",
   "name": "python3"
  },
  "language_info": {
   "codemirror_mode": {
    "name": "ipython",
    "version": 3
   },
   "file_extension": ".py",
   "mimetype": "text/x-python",
   "name": "python",
   "nbconvert_exporter": "python",
   "pygments_lexer": "ipython3",
   "version": "3.6.8"
  }
 },
 "nbformat": 4,
 "nbformat_minor": 5
}
